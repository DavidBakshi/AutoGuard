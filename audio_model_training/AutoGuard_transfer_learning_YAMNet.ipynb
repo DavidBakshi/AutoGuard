{
  "cells": [
    {
      "cell_type": "markdown",
      "metadata": {
        "id": "Cb4espuLKJiA"
      },
      "source": [
        "##### Copyright 2021 The TensorFlow Authors."
      ]
    },
    {
      "cell_type": "code",
      "execution_count": null,
      "metadata": {
        "cellView": "form",
        "id": "DjZQV2njKJ3U"
      },
      "outputs": [],
      "source": [
        "#@title Licensed under the Apache License, Version 2.0 (the \"License\");\n",
        "# you may not use this file except in compliance with the License.\n",
        "# You may obtain a copy of the License at\n",
        "#\n",
        "# https://www.apache.org/licenses/LICENSE-2.0\n",
        "#\n",
        "# Unless required by applicable law or agreed to in writing, software\n",
        "# distributed under the License is distributed on an \"AS IS\" BASIS,\n",
        "# WITHOUT WARRANTIES OR CONDITIONS OF ANY KIND, either express or implied.\n",
        "# See the License for the specific language governing permissions and\n",
        "# limitations under the License."
      ]
    },
    {
      "cell_type": "markdown",
      "metadata": {
        "id": "mTL0TERThT6z"
      },
      "source": [
        "<table class=\"tfo-notebook-buttons\" align=\"left\">\n",
        "  <td>\n",
        "    <a target=\"_blank\" href=\"https://www.tensorflow.org/tutorials/audio/transfer_learning_audio\"><img src=\"https://www.tensorflow.org/images/tf_logo_32px.png\" />View on TensorFlow.org</a>\n",
        "  </td>\n",
        "  <td>\n",
        "    <a target=\"_blank\" href=\"https://colab.research.google.com/github/tensorflow/docs/blob/master/site/en/tutorials/audio/transfer_learning_audio.ipynb\"><img src=\"https://www.tensorflow.org/images/colab_logo_32px.png\" />Run in Google Colab</a>\n",
        "  </td>\n",
        "  <td>\n",
        "    <a target=\"_blank\" href=\"https://github.com/tensorflow/docs/blob/master/site/en/tutorials/audio/transfer_learning_audio.ipynb\"><img src=\"https://www.tensorflow.org/images/GitHub-Mark-32px.png\" />View on GitHub</a>\n",
        "  </td>\n",
        "  <td>\n",
        "    <a href=\"https://storage.googleapis.com/tensorflow_docs/docs/site/en/tutorials/audio/transfer_learning_audio.ipynb\"><img src=\"https://www.tensorflow.org/images/download_logo_32px.png\" />Download notebook</a>\n",
        "  </td>\n",
        "  <td>\n",
        "    <a href=\"https://tfhub.dev/google/yamnet/1\"><img src=\"https://www.tensorflow.org/images/hub_logo_32px.png\" />See TF Hub model</a>\n",
        "  </td>\n",
        "</table>"
      ]
    },
    {
      "cell_type": "markdown",
      "metadata": {
        "id": "K2madPFAGHb3"
      },
      "source": [
        "# Transfer learning with YAMNet for environmental sound classification\n",
        "\n",
        "[YAMNet](https://tfhub.dev/google/yamnet/1) is a pre-trained deep neural network that can predict audio events from [521 classes](https://github.com/tensorflow/models/blob/master/research/audioset/yamnet/yamnet_class_map.csv), such as laughter, barking, or a siren.\n",
        "\n",
        " In this tutorial you will learn how to:\n",
        "\n",
        "- Load and use the YAMNet model for inference.\n",
        "- Build a new model using the YAMNet embeddings to classify cat and dog sounds.\n",
        "- Evaluate and export your model.\n"
      ]
    },
    {
      "cell_type": "markdown",
      "metadata": {
        "id": "5Mdp2TpBh96Y"
      },
      "source": [
        "## Import TensorFlow and other libraries\n"
      ]
    },
    {
      "cell_type": "markdown",
      "metadata": {
        "id": "zCcKYqu_hvKe"
      },
      "source": [
        "Start by installing [TensorFlow I/O](https://www.tensorflow.org/io), which will make it easier for you to load audio files off disk."
      ]
    },
    {
      "cell_type": "code",
      "source": [
        "# Step 1: Uninstall conflicting packages\n",
        "!pip uninstall -y tensorflow tensorflow-text numpy\n",
        "\n",
        "# Step 2: Install only the versions you want\n",
        "!pip install numpy==1.23.5 tensorflow==2.12.0\n"
      ],
      "metadata": {
        "colab": {
          "base_uri": "https://localhost:8080/",
          "height": 1000
        },
        "id": "8gXxNaivPnwc",
        "outputId": "dc92ab7f-e9f1-4579-de7c-57ae9fa030cf",
        "collapsed": true
      },
      "execution_count": null,
      "outputs": [
        {
          "output_type": "stream",
          "name": "stdout",
          "text": [
            "Found existing installation: tensorflow 2.18.0\n",
            "Uninstalling tensorflow-2.18.0:\n",
            "  Successfully uninstalled tensorflow-2.18.0\n",
            "Found existing installation: tensorflow-text 2.18.1\n",
            "Uninstalling tensorflow-text-2.18.1:\n",
            "  Successfully uninstalled tensorflow-text-2.18.1\n",
            "Found existing installation: numpy 2.0.2\n",
            "Uninstalling numpy-2.0.2:\n",
            "  Successfully uninstalled numpy-2.0.2\n",
            "Collecting numpy==1.23.5\n",
            "  Downloading numpy-1.23.5-cp311-cp311-manylinux_2_17_x86_64.manylinux2014_x86_64.whl.metadata (2.3 kB)\n",
            "Collecting tensorflow==2.12.0\n",
            "  Downloading tensorflow-2.12.0-cp311-cp311-manylinux_2_17_x86_64.manylinux2014_x86_64.whl.metadata (3.4 kB)\n",
            "Requirement already satisfied: absl-py>=1.0.0 in /usr/local/lib/python3.11/dist-packages (from tensorflow==2.12.0) (1.4.0)\n",
            "Requirement already satisfied: astunparse>=1.6.0 in /usr/local/lib/python3.11/dist-packages (from tensorflow==2.12.0) (1.6.3)\n",
            "Requirement already satisfied: flatbuffers>=2.0 in /usr/local/lib/python3.11/dist-packages (from tensorflow==2.12.0) (25.2.10)\n",
            "Collecting gast<=0.4.0,>=0.2.1 (from tensorflow==2.12.0)\n",
            "  Downloading gast-0.4.0-py3-none-any.whl.metadata (1.1 kB)\n",
            "Requirement already satisfied: google-pasta>=0.1.1 in /usr/local/lib/python3.11/dist-packages (from tensorflow==2.12.0) (0.2.0)\n",
            "Requirement already satisfied: grpcio<2.0,>=1.24.3 in /usr/local/lib/python3.11/dist-packages (from tensorflow==2.12.0) (1.71.0)\n",
            "Requirement already satisfied: h5py>=2.9.0 in /usr/local/lib/python3.11/dist-packages (from tensorflow==2.12.0) (3.13.0)\n",
            "Requirement already satisfied: jax>=0.3.15 in /usr/local/lib/python3.11/dist-packages (from tensorflow==2.12.0) (0.5.2)\n",
            "Collecting keras<2.13,>=2.12.0 (from tensorflow==2.12.0)\n",
            "  Downloading keras-2.12.0-py2.py3-none-any.whl.metadata (1.4 kB)\n",
            "Requirement already satisfied: libclang>=13.0.0 in /usr/local/lib/python3.11/dist-packages (from tensorflow==2.12.0) (18.1.1)\n",
            "Requirement already satisfied: opt-einsum>=2.3.2 in /usr/local/lib/python3.11/dist-packages (from tensorflow==2.12.0) (3.4.0)\n",
            "Requirement already satisfied: packaging in /usr/local/lib/python3.11/dist-packages (from tensorflow==2.12.0) (24.2)\n",
            "Collecting protobuf!=4.21.0,!=4.21.1,!=4.21.2,!=4.21.3,!=4.21.4,!=4.21.5,<5.0.0dev,>=3.20.3 (from tensorflow==2.12.0)\n",
            "  Downloading protobuf-4.25.7-cp37-abi3-manylinux2014_x86_64.whl.metadata (541 bytes)\n",
            "Requirement already satisfied: setuptools in /usr/local/lib/python3.11/dist-packages (from tensorflow==2.12.0) (75.2.0)\n",
            "Requirement already satisfied: six>=1.12.0 in /usr/local/lib/python3.11/dist-packages (from tensorflow==2.12.0) (1.17.0)\n",
            "Collecting tensorboard<2.13,>=2.12 (from tensorflow==2.12.0)\n",
            "  Downloading tensorboard-2.12.3-py3-none-any.whl.metadata (1.8 kB)\n",
            "Collecting tensorflow-estimator<2.13,>=2.12.0 (from tensorflow==2.12.0)\n",
            "  Downloading tensorflow_estimator-2.12.0-py2.py3-none-any.whl.metadata (1.3 kB)\n",
            "Requirement already satisfied: termcolor>=1.1.0 in /usr/local/lib/python3.11/dist-packages (from tensorflow==2.12.0) (3.1.0)\n",
            "Requirement already satisfied: typing-extensions>=3.6.6 in /usr/local/lib/python3.11/dist-packages (from tensorflow==2.12.0) (4.13.2)\n",
            "Collecting wrapt<1.15,>=1.11.0 (from tensorflow==2.12.0)\n",
            "  Downloading wrapt-1.14.1-cp311-cp311-manylinux_2_5_x86_64.manylinux1_x86_64.manylinux_2_17_x86_64.manylinux2014_x86_64.whl.metadata (6.7 kB)\n",
            "Requirement already satisfied: tensorflow-io-gcs-filesystem>=0.23.1 in /usr/local/lib/python3.11/dist-packages (from tensorflow==2.12.0) (0.37.1)\n",
            "Requirement already satisfied: wheel<1.0,>=0.23.0 in /usr/local/lib/python3.11/dist-packages (from astunparse>=1.6.0->tensorflow==2.12.0) (0.45.1)\n",
            "Requirement already satisfied: jaxlib<=0.5.2,>=0.5.1 in /usr/local/lib/python3.11/dist-packages (from jax>=0.3.15->tensorflow==2.12.0) (0.5.1)\n",
            "Requirement already satisfied: ml_dtypes>=0.4.0 in /usr/local/lib/python3.11/dist-packages (from jax>=0.3.15->tensorflow==2.12.0) (0.4.1)\n",
            "INFO: pip is looking at multiple versions of jax to determine which version is compatible with other requirements. This could take a while.\n",
            "Collecting jax>=0.3.15 (from tensorflow==2.12.0)\n",
            "  Downloading jax-0.6.0-py3-none-any.whl.metadata (22 kB)\n",
            "Collecting jaxlib<=0.6.0,>=0.6.0 (from jax>=0.3.15->tensorflow==2.12.0)\n",
            "  Downloading jaxlib-0.6.0-cp311-cp311-manylinux2014_x86_64.whl.metadata (1.2 kB)\n",
            "Collecting ml_dtypes>=0.5.0 (from jax>=0.3.15->tensorflow==2.12.0)\n",
            "  Downloading ml_dtypes-0.5.1-cp311-cp311-manylinux_2_17_x86_64.manylinux2014_x86_64.whl.metadata (21 kB)\n",
            "Collecting jax>=0.3.15 (from tensorflow==2.12.0)\n",
            "  Downloading jax-0.5.3-py3-none-any.whl.metadata (22 kB)\n",
            "Collecting jaxlib<=0.5.3,>=0.5.3 (from jax>=0.3.15->tensorflow==2.12.0)\n",
            "  Downloading jaxlib-0.5.3-cp311-cp311-manylinux2014_x86_64.whl.metadata (1.2 kB)\n",
            "Collecting jax>=0.3.15 (from tensorflow==2.12.0)\n",
            "  Downloading jax-0.5.1-py3-none-any.whl.metadata (22 kB)\n",
            "  Downloading jax-0.5.0-py3-none-any.whl.metadata (22 kB)\n",
            "Collecting jaxlib<=0.5.0,>=0.5.0 (from jax>=0.3.15->tensorflow==2.12.0)\n",
            "  Downloading jaxlib-0.5.0-cp311-cp311-manylinux2014_x86_64.whl.metadata (978 bytes)\n",
            "Collecting jax>=0.3.15 (from tensorflow==2.12.0)\n",
            "  Downloading jax-0.4.38-py3-none-any.whl.metadata (22 kB)\n",
            "Collecting jaxlib<=0.4.38,>=0.4.38 (from jax>=0.3.15->tensorflow==2.12.0)\n",
            "  Downloading jaxlib-0.4.38-cp311-cp311-manylinux2014_x86_64.whl.metadata (1.0 kB)\n",
            "Collecting jax>=0.3.15 (from tensorflow==2.12.0)\n",
            "  Downloading jax-0.4.37-py3-none-any.whl.metadata (22 kB)\n",
            "Collecting jaxlib<=0.4.37,>=0.4.36 (from jax>=0.3.15->tensorflow==2.12.0)\n",
            "  Downloading jaxlib-0.4.36-cp311-cp311-manylinux2014_x86_64.whl.metadata (1.0 kB)\n",
            "Collecting jax>=0.3.15 (from tensorflow==2.12.0)\n",
            "  Downloading jax-0.4.36-py3-none-any.whl.metadata (22 kB)\n",
            "INFO: pip is still looking at multiple versions of jax to determine which version is compatible with other requirements. This could take a while.\n",
            "  Downloading jax-0.4.35-py3-none-any.whl.metadata (22 kB)\n",
            "Collecting jaxlib<=0.4.35,>=0.4.34 (from jax>=0.3.15->tensorflow==2.12.0)\n",
            "  Downloading jaxlib-0.4.35-cp311-cp311-manylinux2014_x86_64.whl.metadata (983 bytes)\n",
            "Collecting jax>=0.3.15 (from tensorflow==2.12.0)\n",
            "  Downloading jax-0.4.34-py3-none-any.whl.metadata (22 kB)\n",
            "Collecting jaxlib<=0.4.34,>=0.4.34 (from jax>=0.3.15->tensorflow==2.12.0)\n",
            "  Downloading jaxlib-0.4.34-cp311-cp311-manylinux2014_x86_64.whl.metadata (983 bytes)\n",
            "Collecting jax>=0.3.15 (from tensorflow==2.12.0)\n",
            "  Downloading jax-0.4.33-py3-none-any.whl.metadata (22 kB)\n",
            "Collecting jaxlib<=0.4.33,>=0.4.33 (from jax>=0.3.15->tensorflow==2.12.0)\n",
            "  Downloading jaxlib-0.4.33-cp311-cp311-manylinux2014_x86_64.whl.metadata (983 bytes)\n",
            "Collecting jax>=0.3.15 (from tensorflow==2.12.0)\n",
            "  Downloading jax-0.4.31-py3-none-any.whl.metadata (22 kB)\n",
            "Collecting jaxlib<=0.4.31,>=0.4.30 (from jax>=0.3.15->tensorflow==2.12.0)\n",
            "  Downloading jaxlib-0.4.31-cp311-cp311-manylinux2014_x86_64.whl.metadata (983 bytes)\n",
            "Collecting jax>=0.3.15 (from tensorflow==2.12.0)\n",
            "  Downloading jax-0.4.30-py3-none-any.whl.metadata (22 kB)\n",
            "Collecting jaxlib<=0.4.30,>=0.4.27 (from jax>=0.3.15->tensorflow==2.12.0)\n",
            "  Downloading jaxlib-0.4.30-cp311-cp311-manylinux2014_x86_64.whl.metadata (1.0 kB)\n",
            "Requirement already satisfied: scipy>=1.9 in /usr/local/lib/python3.11/dist-packages (from jax>=0.3.15->tensorflow==2.12.0) (1.15.2)\n",
            "Requirement already satisfied: google-auth<3,>=1.6.3 in /usr/local/lib/python3.11/dist-packages (from tensorboard<2.13,>=2.12->tensorflow==2.12.0) (2.38.0)\n",
            "Collecting google-auth-oauthlib<1.1,>=0.5 (from tensorboard<2.13,>=2.12->tensorflow==2.12.0)\n",
            "  Downloading google_auth_oauthlib-1.0.0-py2.py3-none-any.whl.metadata (2.7 kB)\n",
            "Requirement already satisfied: markdown>=2.6.8 in /usr/local/lib/python3.11/dist-packages (from tensorboard<2.13,>=2.12->tensorflow==2.12.0) (3.8)\n",
            "Requirement already satisfied: requests<3,>=2.21.0 in /usr/local/lib/python3.11/dist-packages (from tensorboard<2.13,>=2.12->tensorflow==2.12.0) (2.32.3)\n",
            "Requirement already satisfied: tensorboard-data-server<0.8.0,>=0.7.0 in /usr/local/lib/python3.11/dist-packages (from tensorboard<2.13,>=2.12->tensorflow==2.12.0) (0.7.2)\n",
            "Requirement already satisfied: werkzeug>=1.0.1 in /usr/local/lib/python3.11/dist-packages (from tensorboard<2.13,>=2.12->tensorflow==2.12.0) (3.1.3)\n",
            "Requirement already satisfied: cachetools<6.0,>=2.0.0 in /usr/local/lib/python3.11/dist-packages (from google-auth<3,>=1.6.3->tensorboard<2.13,>=2.12->tensorflow==2.12.0) (5.5.2)\n",
            "Requirement already satisfied: pyasn1-modules>=0.2.1 in /usr/local/lib/python3.11/dist-packages (from google-auth<3,>=1.6.3->tensorboard<2.13,>=2.12->tensorflow==2.12.0) (0.4.2)\n",
            "Requirement already satisfied: rsa<5,>=3.1.4 in /usr/local/lib/python3.11/dist-packages (from google-auth<3,>=1.6.3->tensorboard<2.13,>=2.12->tensorflow==2.12.0) (4.9.1)\n",
            "Requirement already satisfied: requests-oauthlib>=0.7.0 in /usr/local/lib/python3.11/dist-packages (from google-auth-oauthlib<1.1,>=0.5->tensorboard<2.13,>=2.12->tensorflow==2.12.0) (2.0.0)\n",
            "Requirement already satisfied: charset-normalizer<4,>=2 in /usr/local/lib/python3.11/dist-packages (from requests<3,>=2.21.0->tensorboard<2.13,>=2.12->tensorflow==2.12.0) (3.4.1)\n",
            "Requirement already satisfied: idna<4,>=2.5 in /usr/local/lib/python3.11/dist-packages (from requests<3,>=2.21.0->tensorboard<2.13,>=2.12->tensorflow==2.12.0) (3.10)\n",
            "Requirement already satisfied: urllib3<3,>=1.21.1 in /usr/local/lib/python3.11/dist-packages (from requests<3,>=2.21.0->tensorboard<2.13,>=2.12->tensorflow==2.12.0) (2.4.0)\n",
            "Requirement already satisfied: certifi>=2017.4.17 in /usr/local/lib/python3.11/dist-packages (from requests<3,>=2.21.0->tensorboard<2.13,>=2.12->tensorflow==2.12.0) (2025.4.26)\n",
            "Requirement already satisfied: MarkupSafe>=2.1.1 in /usr/local/lib/python3.11/dist-packages (from werkzeug>=1.0.1->tensorboard<2.13,>=2.12->tensorflow==2.12.0) (3.0.2)\n",
            "Requirement already satisfied: pyasn1<0.7.0,>=0.6.1 in /usr/local/lib/python3.11/dist-packages (from pyasn1-modules>=0.2.1->google-auth<3,>=1.6.3->tensorboard<2.13,>=2.12->tensorflow==2.12.0) (0.6.1)\n",
            "Requirement already satisfied: oauthlib>=3.0.0 in /usr/local/lib/python3.11/dist-packages (from requests-oauthlib>=0.7.0->google-auth-oauthlib<1.1,>=0.5->tensorboard<2.13,>=2.12->tensorflow==2.12.0) (3.2.2)\n",
            "Downloading numpy-1.23.5-cp311-cp311-manylinux_2_17_x86_64.manylinux2014_x86_64.whl (17.1 MB)\n",
            "\u001b[2K   \u001b[90m━━━━━━━━━━━━━━━━━━━━━━━━━━━━━━━━━━━━━━━━\u001b[0m \u001b[32m17.1/17.1 MB\u001b[0m \u001b[31m100.0 MB/s\u001b[0m eta \u001b[36m0:00:00\u001b[0m\n",
            "\u001b[?25hDownloading tensorflow-2.12.0-cp311-cp311-manylinux_2_17_x86_64.manylinux2014_x86_64.whl (586.0 MB)\n",
            "\u001b[2K   \u001b[90m━━━━━━━━━━━━━━━━━━━━━━━━━━━━━━━━━━━━━━━━\u001b[0m \u001b[32m586.0/586.0 MB\u001b[0m \u001b[31m2.1 MB/s\u001b[0m eta \u001b[36m0:00:00\u001b[0m\n",
            "\u001b[?25hDownloading gast-0.4.0-py3-none-any.whl (9.8 kB)\n",
            "Downloading jax-0.4.30-py3-none-any.whl (2.0 MB)\n",
            "\u001b[2K   \u001b[90m━━━━━━━━━━━━━━━━━━━━━━━━━━━━━━━━━━━━━━━━\u001b[0m \u001b[32m2.0/2.0 MB\u001b[0m \u001b[31m63.9 MB/s\u001b[0m eta \u001b[36m0:00:00\u001b[0m\n",
            "\u001b[?25hDownloading keras-2.12.0-py2.py3-none-any.whl (1.7 MB)\n",
            "\u001b[2K   \u001b[90m━━━━━━━━━━━━━━━━━━━━━━━━━━━━━━━━━━━━━━━━\u001b[0m \u001b[32m1.7/1.7 MB\u001b[0m \u001b[31m57.3 MB/s\u001b[0m eta \u001b[36m0:00:00\u001b[0m\n",
            "\u001b[?25hDownloading protobuf-4.25.7-cp37-abi3-manylinux2014_x86_64.whl (294 kB)\n",
            "\u001b[2K   \u001b[90m━━━━━━━━━━━━━━━━━━━━━━━━━━━━━━━━━━━━━━━━\u001b[0m \u001b[32m294.6/294.6 kB\u001b[0m \u001b[31m10.8 MB/s\u001b[0m eta \u001b[36m0:00:00\u001b[0m\n",
            "\u001b[?25hDownloading tensorboard-2.12.3-py3-none-any.whl (5.6 MB)\n",
            "\u001b[2K   \u001b[90m━━━━━━━━━━━━━━━━━━━━━━━━━━━━━━━━━━━━━━━━\u001b[0m \u001b[32m5.6/5.6 MB\u001b[0m \u001b[31m33.7 MB/s\u001b[0m eta \u001b[36m0:00:00\u001b[0m\n",
            "\u001b[?25hDownloading tensorflow_estimator-2.12.0-py2.py3-none-any.whl (440 kB)\n",
            "\u001b[2K   \u001b[90m━━━━━━━━━━━━━━━━━━━━━━━━━━━━━━━━━━━━━━━━\u001b[0m \u001b[32m440.7/440.7 kB\u001b[0m \u001b[31m26.2 MB/s\u001b[0m eta \u001b[36m0:00:00\u001b[0m\n",
            "\u001b[?25hDownloading wrapt-1.14.1-cp311-cp311-manylinux_2_5_x86_64.manylinux1_x86_64.manylinux_2_17_x86_64.manylinux2014_x86_64.whl (78 kB)\n",
            "\u001b[2K   \u001b[90m━━━━━━━━━━━━━━━━━━━━━━━━━━━━━━━━━━━━━━━━\u001b[0m \u001b[32m78.4/78.4 kB\u001b[0m \u001b[31m6.4 MB/s\u001b[0m eta \u001b[36m0:00:00\u001b[0m\n",
            "\u001b[?25hDownloading google_auth_oauthlib-1.0.0-py2.py3-none-any.whl (18 kB)\n",
            "Downloading jaxlib-0.4.30-cp311-cp311-manylinux2014_x86_64.whl (79.6 MB)\n",
            "\u001b[2K   \u001b[90m━━━━━━━━━━━━━━━━━━━━━━━━━━━━━━━━━━━━━━━━\u001b[0m \u001b[32m79.6/79.6 MB\u001b[0m \u001b[31m9.5 MB/s\u001b[0m eta \u001b[36m0:00:00\u001b[0m\n",
            "\u001b[?25hInstalling collected packages: wrapt, tensorflow-estimator, protobuf, numpy, keras, gast, jaxlib, google-auth-oauthlib, tensorboard, jax, tensorflow\n",
            "  Attempting uninstall: wrapt\n",
            "    Found existing installation: wrapt 1.17.2\n",
            "    Uninstalling wrapt-1.17.2:\n",
            "      Successfully uninstalled wrapt-1.17.2\n",
            "  Attempting uninstall: protobuf\n",
            "    Found existing installation: protobuf 5.29.4\n",
            "    Uninstalling protobuf-5.29.4:\n",
            "      Successfully uninstalled protobuf-5.29.4\n",
            "  Attempting uninstall: keras\n",
            "    Found existing installation: keras 3.8.0\n",
            "    Uninstalling keras-3.8.0:\n",
            "      Successfully uninstalled keras-3.8.0\n",
            "  Attempting uninstall: gast\n",
            "    Found existing installation: gast 0.6.0\n",
            "    Uninstalling gast-0.6.0:\n",
            "      Successfully uninstalled gast-0.6.0\n",
            "  Attempting uninstall: jaxlib\n",
            "    Found existing installation: jaxlib 0.5.1\n",
            "    Uninstalling jaxlib-0.5.1:\n",
            "      Successfully uninstalled jaxlib-0.5.1\n",
            "  Attempting uninstall: google-auth-oauthlib\n",
            "    Found existing installation: google-auth-oauthlib 1.2.2\n",
            "    Uninstalling google-auth-oauthlib-1.2.2:\n",
            "      Successfully uninstalled google-auth-oauthlib-1.2.2\n",
            "  Attempting uninstall: tensorboard\n",
            "    Found existing installation: tensorboard 2.18.0\n",
            "    Uninstalling tensorboard-2.18.0:\n",
            "      Successfully uninstalled tensorboard-2.18.0\n",
            "  Attempting uninstall: jax\n",
            "    Found existing installation: jax 0.5.2\n",
            "    Uninstalling jax-0.5.2:\n",
            "      Successfully uninstalled jax-0.5.2\n",
            "\u001b[31mERROR: pip's dependency resolver does not currently take into account all the packages that are installed. This behaviour is the source of the following dependency conflicts.\n",
            "keras-hub 0.18.1 requires tensorflow-text; platform_system != \"Darwin\", which is not installed.\n",
            "blosc2 3.3.2 requires numpy>=1.26, but you have numpy 1.23.5 which is incompatible.\n",
            "imbalanced-learn 0.13.0 requires numpy<3,>=1.24.3, but you have numpy 1.23.5 which is incompatible.\n",
            "thinc 8.3.6 requires numpy<3.0.0,>=2.0.0, but you have numpy 1.23.5 which is incompatible.\n",
            "treescope 0.1.9 requires numpy>=1.25.2, but you have numpy 1.23.5 which is incompatible.\n",
            "tf-keras 2.18.0 requires tensorflow<2.19,>=2.18, but you have tensorflow 2.12.0 which is incompatible.\n",
            "scikit-image 0.25.2 requires numpy>=1.24, but you have numpy 1.23.5 which is incompatible.\n",
            "bigframes 2.1.0 requires numpy>=1.24.0, but you have numpy 1.23.5 which is incompatible.\n",
            "xarray 2025.3.1 requires numpy>=1.24, but you have numpy 1.23.5 which is incompatible.\n",
            "pymc 5.22.0 requires numpy>=1.25.0, but you have numpy 1.23.5 which is incompatible.\n",
            "grpcio-status 1.71.0 requires protobuf<6.0dev,>=5.26.1, but you have protobuf 4.25.7 which is incompatible.\n",
            "flax 0.10.6 requires jax>=0.5.1, but you have jax 0.4.30 which is incompatible.\n",
            "albumentations 2.0.6 requires numpy>=1.24.4, but you have numpy 1.23.5 which is incompatible.\n",
            "albucore 0.0.24 requires numpy>=1.24.4, but you have numpy 1.23.5 which is incompatible.\n",
            "orbax-checkpoint 0.11.13 requires jax>=0.5.0, but you have jax 0.4.30 which is incompatible.\n",
            "ydf 0.11.0 requires protobuf<6.0.0,>=5.29.1, but you have protobuf 4.25.7 which is incompatible.\n",
            "tensorflow-decision-forests 1.11.0 requires tensorflow==2.18.0, but you have tensorflow 2.12.0 which is incompatible.\n",
            "chex 0.1.89 requires numpy>=1.24.1, but you have numpy 1.23.5 which is incompatible.\u001b[0m\u001b[31m\n",
            "\u001b[0mSuccessfully installed gast-0.4.0 google-auth-oauthlib-1.0.0 jax-0.4.30 jaxlib-0.4.30 keras-2.12.0 numpy-1.23.5 protobuf-4.25.7 tensorboard-2.12.3 tensorflow-2.12.0 tensorflow-estimator-2.12.0 wrapt-1.14.1\n"
          ]
        },
        {
          "output_type": "display_data",
          "data": {
            "application/vnd.colab-display-data+json": {
              "pip_warning": {
                "packages": [
                  "numpy"
                ]
              },
              "id": "dd988b349c384fd69e087630518a5a64"
            }
          },
          "metadata": {}
        }
      ]
    },
    {
      "cell_type": "code",
      "execution_count": null,
      "metadata": {
        "colab": {
          "base_uri": "https://localhost:8080/"
        },
        "id": "urBpRWDHTHHU",
        "outputId": "ce9281cf-fbfa-4652-af9d-90819e1f51b6",
        "collapsed": true
      },
      "outputs": [
        {
          "output_type": "stream",
          "name": "stdout",
          "text": [
            "Requirement already satisfied: numpy==1.25.2 in /usr/local/lib/python3.11/dist-packages (1.25.2)\n",
            "\u001b[2K   \u001b[90m━━━━━━━━━━━━━━━━━━━━━━━━━━━━━━━━━━━━━━━━\u001b[0m \u001b[32m586.0/586.0 MB\u001b[0m \u001b[31m2.2 MB/s\u001b[0m eta \u001b[36m0:00:00\u001b[0m\n",
            "\u001b[2K   \u001b[90m━━━━━━━━━━━━━━━━━━━━━━━━━━━━━━━━━━━━━━━━\u001b[0m \u001b[32m2.0/2.0 MB\u001b[0m \u001b[31m54.4 MB/s\u001b[0m eta \u001b[36m0:00:00\u001b[0m\n",
            "\u001b[2K   \u001b[90m━━━━━━━━━━━━━━━━━━━━━━━━━━━━━━━━━━━━━━━━\u001b[0m \u001b[32m1.7/1.7 MB\u001b[0m \u001b[31m56.8 MB/s\u001b[0m eta \u001b[36m0:00:00\u001b[0m\n",
            "\u001b[2K   \u001b[90m━━━━━━━━━━━━━━━━━━━━━━━━━━━━━━━━━━━━━━━━\u001b[0m \u001b[32m17.1/17.1 MB\u001b[0m \u001b[31m73.0 MB/s\u001b[0m eta \u001b[36m0:00:00\u001b[0m\n",
            "\u001b[2K   \u001b[90m━━━━━━━━━━━━━━━━━━━━━━━━━━━━━━━━━━━━━━━━\u001b[0m \u001b[32m294.6/294.6 kB\u001b[0m \u001b[31m18.7 MB/s\u001b[0m eta \u001b[36m0:00:00\u001b[0m\n",
            "\u001b[2K   \u001b[90m━━━━━━━━━━━━━━━━━━━━━━━━━━━━━━━━━━━━━━━━\u001b[0m \u001b[32m5.6/5.6 MB\u001b[0m \u001b[31m72.3 MB/s\u001b[0m eta \u001b[36m0:00:00\u001b[0m\n",
            "\u001b[2K   \u001b[90m━━━━━━━━━━━━━━━━━━━━━━━━━━━━━━━━━━━━━━━━\u001b[0m \u001b[32m440.7/440.7 kB\u001b[0m \u001b[31m24.0 MB/s\u001b[0m eta \u001b[36m0:00:00\u001b[0m\n",
            "\u001b[2K   \u001b[90m━━━━━━━━━━━━━━━━━━━━━━━━━━━━━━━━━━━━━━━━\u001b[0m \u001b[32m78.4/78.4 kB\u001b[0m \u001b[31m5.8 MB/s\u001b[0m eta \u001b[36m0:00:00\u001b[0m\n",
            "\u001b[2K   \u001b[90m━━━━━━━━━━━━━━━━━━━━━━━━━━━━━━━━━━━━━━━━\u001b[0m \u001b[32m79.6/79.6 MB\u001b[0m \u001b[31m9.5 MB/s\u001b[0m eta \u001b[36m0:00:00\u001b[0m\n",
            "\u001b[?25h\u001b[31mERROR: pip's dependency resolver does not currently take into account all the packages that are installed. This behaviour is the source of the following dependency conflicts.\n",
            "tensorflow-text 2.18.1 requires tensorflow<2.19,>=2.18.0, but you have tensorflow 2.12.0 which is incompatible.\n",
            "blosc2 3.3.2 requires numpy>=1.26, but you have numpy 1.23.5 which is incompatible.\n",
            "imbalanced-learn 0.13.0 requires numpy<3,>=1.24.3, but you have numpy 1.23.5 which is incompatible.\n",
            "thinc 8.3.6 requires numpy<3.0.0,>=2.0.0, but you have numpy 1.23.5 which is incompatible.\n",
            "treescope 0.1.9 requires numpy>=1.25.2, but you have numpy 1.23.5 which is incompatible.\n",
            "tf-keras 2.18.0 requires tensorflow<2.19,>=2.18, but you have tensorflow 2.12.0 which is incompatible.\n",
            "scikit-image 0.25.2 requires numpy>=1.24, but you have numpy 1.23.5 which is incompatible.\n",
            "bigframes 2.1.0 requires numpy>=1.24.0, but you have numpy 1.23.5 which is incompatible.\n",
            "xarray 2025.3.1 requires numpy>=1.24, but you have numpy 1.23.5 which is incompatible.\n",
            "pymc 5.22.0 requires numpy>=1.25.0, but you have numpy 1.23.5 which is incompatible.\n",
            "grpcio-status 1.71.0 requires protobuf<6.0dev,>=5.26.1, but you have protobuf 4.25.7 which is incompatible.\n",
            "flax 0.10.6 requires jax>=0.5.1, but you have jax 0.4.30 which is incompatible.\n",
            "albumentations 2.0.6 requires numpy>=1.24.4, but you have numpy 1.23.5 which is incompatible.\n",
            "albucore 0.0.24 requires numpy>=1.24.4, but you have numpy 1.23.5 which is incompatible.\n",
            "orbax-checkpoint 0.11.13 requires jax>=0.5.0, but you have jax 0.4.30 which is incompatible.\n",
            "ydf 0.11.0 requires protobuf<6.0.0,>=5.29.1, but you have protobuf 4.25.7 which is incompatible.\n",
            "tensorflow-decision-forests 1.11.0 requires tensorflow==2.18.0, but you have tensorflow 2.12.0 which is incompatible.\n",
            "chex 0.1.89 requires numpy>=1.24.1, but you have numpy 1.23.5 which is incompatible.\u001b[0m\u001b[31m\n",
            "\u001b[0m"
          ]
        }
      ],
      "source": [
        "!pip install numpy==1.25.2\n",
        "!pip install -q \"tensorflow==2.12.0\""
      ]
    },
    {
      "cell_type": "code",
      "execution_count": null,
      "metadata": {
        "id": "7l3nqdWVF-kC"
      },
      "outputs": [],
      "source": [
        "import os\n",
        "\n",
        "from tensorflow.keras.metrics import Precision, Recall\n",
        "from IPython import display\n",
        "import matplotlib.pyplot as plt\n",
        "import numpy as np\n",
        "import pandas as pd\n",
        "\n",
        "import tensorflow as tf\n",
        "import tensorflow_hub as hub\n",
        "#import tensorflow_io as tfio\n",
        "\n"
      ]
    },
    {
      "cell_type": "markdown",
      "metadata": {
        "id": "grw5hiM1o9TE"
      },
      "source": [
        "## Connect to google drive"
      ]
    },
    {
      "cell_type": "code",
      "execution_count": null,
      "metadata": {
        "colab": {
          "base_uri": "https://localhost:8080/"
        },
        "id": "4ERgaiWm7FmG",
        "outputId": "650f3ce9-3223-4063-e04c-b6e8e411b49c"
      },
      "outputs": [
        {
          "output_type": "stream",
          "name": "stdout",
          "text": [
            "Mounted at /content/drive/\n"
          ]
        }
      ],
      "source": [
        "from google.colab import drive\n",
        "drive.mount('/content/drive/')"
      ]
    },
    {
      "cell_type": "markdown",
      "metadata": {
        "id": "v9ZhybCnt_bM"
      },
      "source": [
        "## About YAMNet\n",
        "\n",
        "[YAMNet](https://github.com/tensorflow/models/tree/master/research/audioset/yamnet) is a pre-trained neural network that employs the [MobileNetV1](https://arxiv.org/abs/1704.04861) depthwise-separable convolution architecture. It can use an audio waveform as input and make independent predictions for each of the 521 audio events from the [AudioSet](http://g.co/audioset) corpus.\n",
        "\n",
        "Internally, the model extracts \"frames\" from the audio signal and processes batches of these frames. This version of the model uses frames that are 0.96 second long and extracts one frame every 0.48 seconds .\n",
        "\n",
        "The model accepts a 1-D float32 Tensor or NumPy array containing a waveform of arbitrary length, represented as single-channel (mono) 16 kHz samples in the range `[-1.0, +1.0]`. This tutorial contains code to help you convert WAV files into the supported format.\n",
        "\n",
        "The model returns 3 outputs, including the class scores, embeddings (which you will use for transfer learning), and the log mel [spectrogram](https://www.tensorflow.org/tutorials/audio/simple_audio#spectrogram). You can find more details [here](https://tfhub.dev/google/yamnet/1).\n",
        "\n",
        "One specific use of YAMNet is as a high-level feature extractor - the 1,024-dimensional embedding output. You will use the base (YAMNet) model's input features and feed them into your shallower model consisting of one hidden `tf.keras.layers.Dense` layer. Then, you will train the network on a small amount of data for audio classification _without_ requiring a lot of labeled data and training end-to-end. (This is similar to [transfer learning for image classification with TensorFlow Hub](https://www.tensorflow.org/tutorials/images/transfer_learning_with_hub) for more information.)\n",
        "\n",
        "First, you will test the model and see the results of classifying audio. You will then construct the data pre-processing pipeline.\n",
        "\n",
        "### Loading YAMNet from TensorFlow Hub\n",
        "\n",
        "You are going to use a pre-trained YAMNet from [Tensorflow Hub](https://tfhub.dev/) to extract the embeddings from the sound files.\n",
        "\n",
        "Loading a model from TensorFlow Hub is straightforward: choose the model, copy its URL, and use the `load` function.\n",
        "\n",
        "Note: to read the documentation of the model, use the model URL in your browser."
      ]
    },
    {
      "cell_type": "code",
      "execution_count": null,
      "metadata": {
        "id": "06CWkBV5v3gr"
      },
      "outputs": [],
      "source": [
        "yamnet_model_handle = 'https://tfhub.dev/google/yamnet/1'\n",
        "yamnet_model = hub.load(yamnet_model_handle)"
      ]
    },
    {
      "cell_type": "markdown",
      "metadata": {
        "id": "GmrPJ0GHw9rr"
      },
      "source": [
        "With the model loaded, you can follow the [YAMNet basic usage tutorial](https://www.tensorflow.org/hub/tutorials/yamnet) and download a sample WAV file to run the inference.\n"
      ]
    },
    {
      "cell_type": "code",
      "execution_count": null,
      "metadata": {
        "colab": {
          "base_uri": "https://localhost:8080/"
        },
        "id": "C5i6xktEq00P",
        "outputId": "f058e092-4856-4ead-f0aa-7dce80f06856",
        "collapsed": true
      },
      "outputs": [
        {
          "output_type": "stream",
          "name": "stdout",
          "text": [
            "Downloading data from file:///content/drive/MyDrive/autoguard_dataset/test_audio/3-paure3_amp_up-A-0.wav\n",
            "74192/74192 [==============================] - 0s 0us/step\n",
            "./test_data/3-paure3_amp_up-A-0.wav\n"
          ]
        }
      ],
      "source": [
        "# TODO complete the real location after mounting\n",
        "testing_wav_file_name = tf.keras.utils.get_file('3-paure3_amp_up-A-0.wav',\n",
        "                                                'file:///content/drive/MyDrive/autoguard_dataset/test_audio/3-paure3_amp_up-A-0.wav',\n",
        "                                                cache_dir='./',\n",
        "                                                cache_subdir='test_data')\n",
        "\n",
        "print(testing_wav_file_name)"
      ]
    },
    {
      "cell_type": "markdown",
      "metadata": {
        "id": "mBm9y9iV2U_-"
      },
      "source": [
        "You will need a function to load audio files, which will also be used later when working with the training data. (Learn more about reading audio files and their labels in [Simple audio recognition](https://www.tensorflow.org/tutorials/audio/simple_audio#reading_audio_files_and_their_labels).\n",
        "\n",
        "Note: The returned `wav_data` from `load_wav_16k_mono` is already normalized to values in the `[-1.0, 1.0]` range (for more information, go to [YAMNet's documentation on TF Hub](https://tfhub.dev/google/yamnet/1))."
      ]
    },
    {
      "cell_type": "code",
      "execution_count": null,
      "metadata": {
        "id": "Xwc9Wrdg2EtY"
      },
      "outputs": [],
      "source": [
        "# Utility functions for loading audio files and making sure the sample rate is correct.\n",
        "\n",
        "@tf.function\n",
        "def load_wav_16k_mono(filename):\n",
        "    \"\"\" Load a WAV file, convert it to a float tensor, resample to 16 kHz single-channel audio. \"\"\"\n",
        "    file_contents = tf.io.read_file(filename)\n",
        "    wav, sample_rate = tf.audio.decode_wav(\n",
        "          file_contents,\n",
        "          desired_channels=1)\n",
        "    wav = tf.squeeze(wav, axis=-1)\n",
        "    sample_rate = tf.cast(sample_rate, dtype=tf.int64)\n",
        "    #wav = tfio.audio.resample(wav, rate_in=sample_rate, rate_out=16000)\n",
        "    return wav"
      ]
    },
    {
      "cell_type": "code",
      "execution_count": null,
      "metadata": {
        "colab": {
          "base_uri": "https://localhost:8080/",
          "height": 488
        },
        "id": "FRqpjkwB0Jjw",
        "outputId": "dec690ee-a06c-41cd-f9e8-6b26f1ce9bad"
      },
      "outputs": [
        {
          "output_type": "execute_result",
          "data": {
            "text/plain": [
              "<IPython.lib.display.Audio object>"
            ],
            "text/html": [
              "\n",
              "                <audio  controls=\"controls\" >\n",
              "                    <source src=\"data:audio/wav;base64,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\" type=\"audio/wav\" />\n",
              "                    Your browser does not support the audio element.\n",
              "                </audio>\n",
              "              "
            ]
          },
          "metadata": {},
          "execution_count": 8
        },
        {
          "output_type": "display_data",
          "data": {
            "text/plain": [
              "<Figure size 640x480 with 1 Axes>"
            ],
            "image/png": "[encoded data removed]"
          },
          "metadata": {}
        }
      ],
      "source": [
        "testing_wav_data = load_wav_16k_mono(testing_wav_file_name)\n",
        "\n",
        "_ = plt.plot(testing_wav_data)\n",
        "\n",
        "# Play the audio file.\n",
        "display.Audio(testing_wav_data, rate=16000)"
      ]
    },
    {
      "cell_type": "markdown",
      "source": [
        "## AutoGuard dataset"
      ],
      "metadata": {
        "id": "QFIFQDpM7s90"
      }
    },
    {
      "cell_type": "markdown",
      "metadata": {
        "id": "qcruxiuX1cO5"
      },
      "source": [
        "### Explore the data\n",
        "\n",
        "The metadata for each file is specified in the csv file at '/content/drive/MyDrive/proj_audio/meta/metadata.csv'\n",
        "\n",
        "and all the audio files are in '/content/drive/MyDrive/proj_audio/audio'\n",
        "\n",
        "You will create a pandas `DataFrame` with the mapping and use that to have a clearer view of the data.\n"
      ]
    },
    {
      "cell_type": "code",
      "execution_count": null,
      "metadata": {
        "id": "jwmLygPrMAbH"
      },
      "outputs": [],
      "source": [
        "\n",
        "metadata_csv = '/content/drive/MyDrive/autoguard_dataset/meta/metadata.csv'\n",
        "base_data_path = '/content/drive/MyDrive/autoguard_dataset/audio'\n",
        "\n",
        "pd_data = pd.read_csv(metadata_csv)\n"
      ]
    },
    {
      "cell_type": "markdown",
      "metadata": {
        "id": "7d4rHBEQ2QAU"
      },
      "source": [
        "### Filter the data\n",
        "\n",
        "Now that the data is stored in the `DataFrame`, apply some transformations:\n",
        "\n",
        "- Filter out rows and use only the selected classes - `dog` and `cat`. If you want to use any other classes, this is where you can choose them.\n",
        "- Amend the filename to have the full path. This will make loading easier later.\n",
        "- Change targets to be within a specific range. In this example, `dog` will remain at `0`, but `cat` will become `1` instead of its original value of `5`."
      ]
    },
    {
      "cell_type": "code",
      "execution_count": null,
      "metadata": {
        "id": "tFnEoQjgs14I",
        "colab": {
          "base_uri": "https://localhost:8080/",
          "height": 363
        },
        "collapsed": true,
        "outputId": "7c4d2b53-d990-46a5-8b95-29bd8627cc33"
      },
      "outputs": [
        {
          "output_type": "execute_result",
          "data": {
            "text/plain": [
              "                                            filename  fold category  \\\n",
              "0  /content/drive/MyDrive/autoguard_dataset/audio...     1    noise   \n",
              "1  /content/drive/MyDrive/autoguard_dataset/audio...     2    noise   \n",
              "2  /content/drive/MyDrive/autoguard_dataset/audio...     2    noise   \n",
              "3  /content/drive/MyDrive/autoguard_dataset/audio...     3    noise   \n",
              "4  /content/drive/MyDrive/autoguard_dataset/audio...     3    noise   \n",
              "5  /content/drive/MyDrive/autoguard_dataset/audio...     3    noise   \n",
              "6  /content/drive/MyDrive/autoguard_dataset/audio...     4    noise   \n",
              "7  /content/drive/MyDrive/autoguard_dataset/audio...     1      obd   \n",
              "8  /content/drive/MyDrive/autoguard_dataset/audio...     1      obd   \n",
              "9  /content/drive/MyDrive/autoguard_dataset/audio...     1      obd   \n",
              "\n",
              "   Unnamed: 3                                  src_file take  target  \n",
              "0         NaN                    air_condition_buttons4    A       1  \n",
              "1         NaN                    air_condition_buttons1    A       1  \n",
              "2         NaN                    air_condition_buttons7    A       1  \n",
              "3         NaN                    air_condition_buttons2    A       1  \n",
              "4         NaN                    air_condition_buttons3    A       1  \n",
              "5         NaN                    air_condition_buttons5    A       1  \n",
              "6         NaN                    air_condition_buttons6    A       1  \n",
              "7         NaN       enter_with_car_street_noise6_amp_up    A       0  \n",
              "8         NaN  enter_with_talks_in_background4_amp_down    A       0  \n",
              "9         NaN                             paure3_amp_up    A       0  "
            ],
            "text/html": [
              "\n",
              "  <div id=\"df-cbeb0c1e-9240-451c-8cd7-eea906356711\" class=\"colab-df-container\">\n",
              "    <div>\n",
              "<style scoped>\n",
              "    .dataframe tbody tr th:only-of-type {\n",
              "        vertical-align: middle;\n",
              "    }\n",
              "\n",
              "    .dataframe tbody tr th {\n",
              "        vertical-align: top;\n",
              "    }\n",
              "\n",
              "    .dataframe thead th {\n",
              "        text-align: right;\n",
              "    }\n",
              "</style>\n",
              "<table border=\"1\" class=\"dataframe\">\n",
              "  <thead>\n",
              "    <tr style=\"text-align: right;\">\n",
              "      <th></th>\n",
              "      <th>filename</th>\n",
              "      <th>fold</th>\n",
              "      <th>category</th>\n",
              "      <th>Unnamed: 3</th>\n",
              "      <th>src_file</th>\n",
              "      <th>take</th>\n",
              "      <th>target</th>\n",
              "    </tr>\n",
              "  </thead>\n",
              "  <tbody>\n",
              "    <tr>\n",
              "      <th>0</th>\n",
              "      <td>/content/drive/MyDrive/autoguard_dataset/audio...</td>\n",
              "      <td>1</td>\n",
              "      <td>noise</td>\n",
              "      <td>NaN</td>\n",
              "      <td>air_condition_buttons4</td>\n",
              "      <td>A</td>\n",
              "      <td>1</td>\n",
              "    </tr>\n",
              "    <tr>\n",
              "      <th>1</th>\n",
              "      <td>/content/drive/MyDrive/autoguard_dataset/audio...</td>\n",
              "      <td>2</td>\n",
              "      <td>noise</td>\n",
              "      <td>NaN</td>\n",
              "      <td>air_condition_buttons1</td>\n",
              "      <td>A</td>\n",
              "      <td>1</td>\n",
              "    </tr>\n",
              "    <tr>\n",
              "      <th>2</th>\n",
              "      <td>/content/drive/MyDrive/autoguard_dataset/audio...</td>\n",
              "      <td>2</td>\n",
              "      <td>noise</td>\n",
              "      <td>NaN</td>\n",
              "      <td>air_condition_buttons7</td>\n",
              "      <td>A</td>\n",
              "      <td>1</td>\n",
              "    </tr>\n",
              "    <tr>\n",
              "      <th>3</th>\n",
              "      <td>/content/drive/MyDrive/autoguard_dataset/audio...</td>\n",
              "      <td>3</td>\n",
              "      <td>noise</td>\n",
              "      <td>NaN</td>\n",
              "      <td>air_condition_buttons2</td>\n",
              "      <td>A</td>\n",
              "      <td>1</td>\n",
              "    </tr>\n",
              "    <tr>\n",
              "      <th>4</th>\n",
              "      <td>/content/drive/MyDrive/autoguard_dataset/audio...</td>\n",
              "      <td>3</td>\n",
              "      <td>noise</td>\n",
              "      <td>NaN</td>\n",
              "      <td>air_condition_buttons3</td>\n",
              "      <td>A</td>\n",
              "      <td>1</td>\n",
              "    </tr>\n",
              "    <tr>\n",
              "      <th>5</th>\n",
              "      <td>/content/drive/MyDrive/autoguard_dataset/audio...</td>\n",
              "      <td>3</td>\n",
              "      <td>noise</td>\n",
              "      <td>NaN</td>\n",
              "      <td>air_condition_buttons5</td>\n",
              "      <td>A</td>\n",
              "      <td>1</td>\n",
              "    </tr>\n",
              "    <tr>\n",
              "      <th>6</th>\n",
              "      <td>/content/drive/MyDrive/autoguard_dataset/audio...</td>\n",
              "      <td>4</td>\n",
              "      <td>noise</td>\n",
              "      <td>NaN</td>\n",
              "      <td>air_condition_buttons6</td>\n",
              "      <td>A</td>\n",
              "      <td>1</td>\n",
              "    </tr>\n",
              "    <tr>\n",
              "      <th>7</th>\n",
              "      <td>/content/drive/MyDrive/autoguard_dataset/audio...</td>\n",
              "      <td>1</td>\n",
              "      <td>obd</td>\n",
              "      <td>NaN</td>\n",
              "      <td>enter_with_car_street_noise6_amp_up</td>\n",
              "      <td>A</td>\n",
              "      <td>0</td>\n",
              "    </tr>\n",
              "    <tr>\n",
              "      <th>8</th>\n",
              "      <td>/content/drive/MyDrive/autoguard_dataset/audio...</td>\n",
              "      <td>1</td>\n",
              "      <td>obd</td>\n",
              "      <td>NaN</td>\n",
              "      <td>enter_with_talks_in_background4_amp_down</td>\n",
              "      <td>A</td>\n",
              "      <td>0</td>\n",
              "    </tr>\n",
              "    <tr>\n",
              "      <th>9</th>\n",
              "      <td>/content/drive/MyDrive/autoguard_dataset/audio...</td>\n",
              "      <td>1</td>\n",
              "      <td>obd</td>\n",
              "      <td>NaN</td>\n",
              "      <td>paure3_amp_up</td>\n",
              "      <td>A</td>\n",
              "      <td>0</td>\n",
              "    </tr>\n",
              "  </tbody>\n",
              "</table>\n",
              "</div>\n",
              "    <div class=\"colab-df-buttons\">\n",
              "\n",
              "  <div class=\"colab-df-container\">\n",
              "    <button class=\"colab-df-convert\" onclick=\"convertToInteractive('df-cbeb0c1e-9240-451c-8cd7-eea906356711')\"\n",
              "            title=\"Convert this dataframe to an interactive table.\"\n",
              "            style=\"display:none;\">\n",
              "\n",
              "  <svg xmlns=\"http://www.w3.org/2000/svg\" height=\"24px\" viewBox=\"0 -960 960 960\">\n",
              "    <path d=\"M120-120v-720h720v720H120Zm60-500h600v-160H180v160Zm220 220h160v-160H400v160Zm0 220h160v-160H400v160ZM180-400h160v-160H180v160Zm440 0h160v-160H620v160ZM180-180h160v-160H180v160Zm440 0h160v-160H620v160Z\"/>\n",
              "  </svg>\n",
              "    </button>\n",
              "\n",
              "  <style>\n",
              "    .colab-df-container {\n",
              "      display:flex;\n",
              "      gap: 12px;\n",
              "    }\n",
              "\n",
              "    .colab-df-convert {\n",
              "      background-color: #E8F0FE;\n",
              "      border: none;\n",
              "      border-radius: 50%;\n",
              "      cursor: pointer;\n",
              "      display: none;\n",
              "      fill: #1967D2;\n",
              "      height: 32px;\n",
              "      padding: 0 0 0 0;\n",
              "      width: 32px;\n",
              "    }\n",
              "\n",
              "    .colab-df-convert:hover {\n",
              "      background-color: #E2EBFA;\n",
              "      box-shadow: 0px 1px 2px rgba(60, 64, 67, 0.3), 0px 1px 3px 1px rgba(60, 64, 67, 0.15);\n",
              "      fill: #174EA6;\n",
              "    }\n",
              "\n",
              "    .colab-df-buttons div {\n",
              "      margin-bottom: 4px;\n",
              "    }\n",
              "\n",
              "    [theme=dark] .colab-df-convert {\n",
              "      background-color: #3B4455;\n",
              "      fill: #D2E3FC;\n",
              "    }\n",
              "\n",
              "    [theme=dark] .colab-df-convert:hover {\n",
              "      background-color: #434B5C;\n",
              "      box-shadow: 0px 1px 3px 1px rgba(0, 0, 0, 0.15);\n",
              "      filter: drop-shadow(0px 1px 2px rgba(0, 0, 0, 0.3));\n",
              "      fill: #FFFFFF;\n",
              "    }\n",
              "  </style>\n",
              "\n",
              "    <script>\n",
              "      const buttonEl =\n",
              "        document.querySelector('#df-cbeb0c1e-9240-451c-8cd7-eea906356711 button.colab-df-convert');\n",
              "      buttonEl.style.display =\n",
              "        google.colab.kernel.accessAllowed ? 'block' : 'none';\n",
              "\n",
              "      async function convertToInteractive(key) {\n",
              "        const element = document.querySelector('#df-cbeb0c1e-9240-451c-8cd7-eea906356711');\n",
              "        const dataTable =\n",
              "          await google.colab.kernel.invokeFunction('convertToInteractive',\n",
              "                                                    [key], {});\n",
              "        if (!dataTable) return;\n",
              "\n",
              "        const docLinkHtml = 'Like what you see? Visit the ' +\n",
              "          '<a target=\"_blank\" href=https://colab.research.google.com/notebooks/data_table.ipynb>data table notebook</a>'\n",
              "          + ' to learn more about interactive tables.';\n",
              "        element.innerHTML = '';\n",
              "        dataTable['output_type'] = 'display_data';\n",
              "        await google.colab.output.renderOutput(dataTable, element);\n",
              "        const docLink = document.createElement('div');\n",
              "        docLink.innerHTML = docLinkHtml;\n",
              "        element.appendChild(docLink);\n",
              "      }\n",
              "    </script>\n",
              "  </div>\n",
              "\n",
              "\n",
              "<div id=\"df-4c6088d6-5b99-44bb-8658-5a54aca281a0\">\n",
              "  <button class=\"colab-df-quickchart\" onclick=\"quickchart('df-4c6088d6-5b99-44bb-8658-5a54aca281a0')\"\n",
              "            title=\"Suggest charts\"\n",
              "            style=\"display:none;\">\n",
              "\n",
              "<svg xmlns=\"http://www.w3.org/2000/svg\" height=\"24px\"viewBox=\"0 0 24 24\"\n",
              "     width=\"24px\">\n",
              "    <g>\n",
              "        <path d=\"M19 3H5c-1.1 0-2 .9-2 2v14c0 1.1.9 2 2 2h14c1.1 0 2-.9 2-2V5c0-1.1-.9-2-2-2zM9 17H7v-7h2v7zm4 0h-2V7h2v10zm4 0h-2v-4h2v4z\"/>\n",
              "    </g>\n",
              "</svg>\n",
              "  </button>\n",
              "\n",
              "<style>\n",
              "  .colab-df-quickchart {\n",
              "      --bg-color: #E8F0FE;\n",
              "      --fill-color: #1967D2;\n",
              "      --hover-bg-color: #E2EBFA;\n",
              "      --hover-fill-color: #174EA6;\n",
              "      --disabled-fill-color: #AAA;\n",
              "      --disabled-bg-color: #DDD;\n",
              "  }\n",
              "\n",
              "  [theme=dark] .colab-df-quickchart {\n",
              "      --bg-color: #3B4455;\n",
              "      --fill-color: #D2E3FC;\n",
              "      --hover-bg-color: #434B5C;\n",
              "      --hover-fill-color: #FFFFFF;\n",
              "      --disabled-bg-color: #3B4455;\n",
              "      --disabled-fill-color: #666;\n",
              "  }\n",
              "\n",
              "  .colab-df-quickchart {\n",
              "    background-color: var(--bg-color);\n",
              "    border: none;\n",
              "    border-radius: 50%;\n",
              "    cursor: pointer;\n",
              "    display: none;\n",
              "    fill: var(--fill-color);\n",
              "    height: 32px;\n",
              "    padding: 0;\n",
              "    width: 32px;\n",
              "  }\n",
              "\n",
              "  .colab-df-quickchart:hover {\n",
              "    background-color: var(--hover-bg-color);\n",
              "    box-shadow: 0 1px 2px rgba(60, 64, 67, 0.3), 0 1px 3px 1px rgba(60, 64, 67, 0.15);\n",
              "    fill: var(--button-hover-fill-color);\n",
              "  }\n",
              "\n",
              "  .colab-df-quickchart-complete:disabled,\n",
              "  .colab-df-quickchart-complete:disabled:hover {\n",
              "    background-color: var(--disabled-bg-color);\n",
              "    fill: var(--disabled-fill-color);\n",
              "    box-shadow: none;\n",
              "  }\n",
              "\n",
              "  .colab-df-spinner {\n",
              "    border: 2px solid var(--fill-color);\n",
              "    border-color: transparent;\n",
              "    border-bottom-color: var(--fill-color);\n",
              "    animation:\n",
              "      spin 1s steps(1) infinite;\n",
              "  }\n",
              "\n",
              "  @keyframes spin {\n",
              "    0% {\n",
              "      border-color: transparent;\n",
              "      border-bottom-color: var(--fill-color);\n",
              "      border-left-color: var(--fill-color);\n",
              "    }\n",
              "    20% {\n",
              "      border-color: transparent;\n",
              "      border-left-color: var(--fill-color);\n",
              "      border-top-color: var(--fill-color);\n",
              "    }\n",
              "    30% {\n",
              "      border-color: transparent;\n",
              "      border-left-color: var(--fill-color);\n",
              "      border-top-color: var(--fill-color);\n",
              "      border-right-color: var(--fill-color);\n",
              "    }\n",
              "    40% {\n",
              "      border-color: transparent;\n",
              "      border-right-color: var(--fill-color);\n",
              "      border-top-color: var(--fill-color);\n",
              "    }\n",
              "    60% {\n",
              "      border-color: transparent;\n",
              "      border-right-color: var(--fill-color);\n",
              "    }\n",
              "    80% {\n",
              "      border-color: transparent;\n",
              "      border-right-color: var(--fill-color);\n",
              "      border-bottom-color: var(--fill-color);\n",
              "    }\n",
              "    90% {\n",
              "      border-color: transparent;\n",
              "      border-bottom-color: var(--fill-color);\n",
              "    }\n",
              "  }\n",
              "</style>\n",
              "\n",
              "  <script>\n",
              "    async function quickchart(key) {\n",
              "      const quickchartButtonEl =\n",
              "        document.querySelector('#' + key + ' button');\n",
              "      quickchartButtonEl.disabled = true;  // To prevent multiple clicks.\n",
              "      quickchartButtonEl.classList.add('colab-df-spinner');\n",
              "      try {\n",
              "        const charts = await google.colab.kernel.invokeFunction(\n",
              "            'suggestCharts', [key], {});\n",
              "      } catch (error) {\n",
              "        console.error('Error during call to suggestCharts:', error);\n",
              "      }\n",
              "      quickchartButtonEl.classList.remove('colab-df-spinner');\n",
              "      quickchartButtonEl.classList.add('colab-df-quickchart-complete');\n",
              "    }\n",
              "    (() => {\n",
              "      let quickchartButtonEl =\n",
              "        document.querySelector('#df-4c6088d6-5b99-44bb-8658-5a54aca281a0 button');\n",
              "      quickchartButtonEl.style.display =\n",
              "        google.colab.kernel.accessAllowed ? 'block' : 'none';\n",
              "    })();\n",
              "  </script>\n",
              "</div>\n",
              "\n",
              "    </div>\n",
              "  </div>\n"
            ],
            "application/vnd.google.colaboratory.intrinsic+json": {
              "type": "dataframe",
              "variable_name": "filtered_pd",
              "summary": "{\n  \"name\": \"filtered_pd\",\n  \"rows\": 241,\n  \"fields\": [\n    {\n      \"column\": \"filename\",\n      \"properties\": {\n        \"dtype\": \"string\",\n        \"num_unique_values\": 238,\n        \"samples\": [\n          \"/content/drive/MyDrive/autoguard_dataset/audio/4-plug_noise4-A-1.wav\",\n          \"/content/drive/MyDrive/autoguard_dataset/audio/2-paure2_amp_down-A-0.wav\",\n          \"/content/drive/MyDrive/autoguard_dataset/audio/2-vinkers_noise1-A-1.wav\"\n        ],\n        \"semantic_type\": \"\",\n        \"description\": \"\"\n      }\n    },\n    {\n      \"column\": \"fold\",\n      \"properties\": {\n        \"dtype\": \"number\",\n        \"std\": 1,\n        \"min\": 1,\n        \"max\": 5,\n        \"num_unique_values\": 5,\n        \"samples\": [\n          2,\n          5,\n          3\n        ],\n        \"semantic_type\": \"\",\n        \"description\": \"\"\n      }\n    },\n    {\n      \"column\": \"category\",\n      \"properties\": {\n        \"dtype\": \"category\",\n        \"num_unique_values\": 2,\n        \"samples\": [\n          \"obd\",\n          \"noise\"\n        ],\n        \"semantic_type\": \"\",\n        \"description\": \"\"\n      }\n    },\n    {\n      \"column\": \"Unnamed: 3\",\n      \"properties\": {\n        \"dtype\": \"number\",\n        \"std\": null,\n        \"min\": null,\n        \"max\": null,\n        \"num_unique_values\": 0,\n        \"samples\": [],\n        \"semantic_type\": \"\",\n        \"description\": \"\"\n      }\n    },\n    {\n      \"column\": \"src_file\",\n      \"properties\": {\n        \"dtype\": \"string\",\n        \"num_unique_values\": 241,\n        \"samples\": [],\n        \"semantic_type\": \"\",\n        \"description\": \"\"\n      }\n    },\n    {\n      \"column\": \"take\",\n      \"properties\": {\n        \"dtype\": \"category\",\n        \"num_unique_values\": 1,\n        \"samples\": [],\n        \"semantic_type\": \"\",\n        \"description\": \"\"\n      }\n    },\n    {\n      \"column\": \"target\",\n      \"properties\": {\n        \"dtype\": \"number\",\n        \"std\": 0,\n        \"min\": 0,\n        \"max\": 1,\n        \"num_unique_values\": 2,\n        \"samples\": [],\n        \"semantic_type\": \"\",\n        \"description\": \"\"\n      }\n    }\n  ]\n}"
            }
          },
          "metadata": {},
          "execution_count": 10
        }
      ],
      "source": [
        "# Define the classes to keep and map them to numeric IDs for model training.\n",
        "my_classes = ['obd', 'noise']\n",
        "map_class_to_id = {'obd':0, 'noise':1}\n",
        "\n",
        "# Filter the dataset to include only the specified classes.\n",
        "filtered_pd = pd_data[pd_data.category.isin(my_classes)]\n",
        "\n",
        "# Map class names to numeric IDs and add as a new 'target' column.\n",
        "class_id = filtered_pd['category'].apply(lambda name: map_class_to_id[name])\n",
        "filtered_pd = filtered_pd.assign(target=class_id)\n",
        "\n",
        "# Update 'filename' column to include full file paths.\n",
        "full_path = filtered_pd['filename'].apply(lambda row: os.path.join(base_data_path, row))\n",
        "filtered_pd = filtered_pd.assign(filename=full_path)\n",
        "\n",
        "filtered_pd.head(10)  # Display the first 5 rows to verify the filtered and updated data.\n"
      ]
    },
    {
      "cell_type": "markdown",
      "metadata": {
        "id": "BkDcBS-aJdCz"
      },
      "source": [
        "### Load the audio files and retrieve embeddings\n",
        "\n",
        "Here you'll apply the `load_wav_16k_mono` and prepare the WAV data for the model.\n",
        "\n",
        "When extracting embeddings from the WAV data, you get an array of shape `(N, 1024)`  where `N` is the number of frames that YAMNet found (one for every 0.48 seconds of audio)."
      ]
    },
    {
      "cell_type": "markdown",
      "metadata": {
        "id": "AKDT5RomaDKO"
      },
      "source": [
        "Your model will use each frame as one input. Therefore, you need to create a new column that has one frame per row. You also need to expand the labels and the `fold` column to proper reflect these new rows.\n",
        "\n",
        "The expanded `fold` column keeps the original values. You cannot mix frames because, when performing the splits, you might end up having parts of the same audio on different splits, which would make your validation and test steps less effective."
      ]
    },
    {
      "cell_type": "code",
      "execution_count": null,
      "metadata": {
        "id": "u5Rq3_PyKLtU",
        "colab": {
          "base_uri": "https://localhost:8080/"
        },
        "outputId": "dec7e150-7f1c-403f-b4c5-b472716e2f86"
      },
      "outputs": [
        {
          "output_type": "execute_result",
          "data": {
            "text/plain": [
              "(TensorSpec(shape=(), dtype=tf.string, name=None),\n",
              " TensorSpec(shape=(), dtype=tf.int64, name=None),\n",
              " TensorSpec(shape=(), dtype=tf.int64, name=None))"
            ]
          },
          "metadata": {},
          "execution_count": 11
        }
      ],
      "source": [
        "filenames = filtered_pd['filename']\n",
        "targets = filtered_pd['target']\n",
        "folds = filtered_pd['fold']\n",
        "\n",
        "main_ds = tf.data.Dataset.from_tensor_slices((filenames, targets, folds))\n",
        "main_ds.element_spec"
      ]
    },
    {
      "cell_type": "code",
      "execution_count": null,
      "metadata": {
        "id": "rsEfovDVAHGY",
        "colab": {
          "base_uri": "https://localhost:8080/"
        },
        "outputId": "833eb436-64f9-4137-d086-ff3d0b1f4915"
      },
      "outputs": [
        {
          "output_type": "execute_result",
          "data": {
            "text/plain": [
              "(TensorSpec(shape=(None,), dtype=tf.float32, name=None),\n",
              " TensorSpec(shape=(), dtype=tf.int64, name=None),\n",
              " TensorSpec(shape=(), dtype=tf.int64, name=None))"
            ]
          },
          "metadata": {},
          "execution_count": 12
        }
      ],
      "source": [
        "def load_wav_for_map(filename, label, fold):\n",
        "  return load_wav_16k_mono(filename), label, fold\n",
        "\n",
        "main_ds = main_ds.map(load_wav_for_map)\n",
        "main_ds.element_spec"
      ]
    },
    {
      "cell_type": "code",
      "execution_count": null,
      "metadata": {
        "id": "k0tG8DBNAHcE",
        "colab": {
          "base_uri": "https://localhost:8080/"
        },
        "outputId": "e3cd7d1a-7e4d-449a-c5cd-421a15280cbf"
      },
      "outputs": [
        {
          "output_type": "execute_result",
          "data": {
            "text/plain": [
              "(TensorSpec(shape=(1024,), dtype=tf.float32, name=None),\n",
              " TensorSpec(shape=(), dtype=tf.int64, name=None),\n",
              " TensorSpec(shape=(), dtype=tf.int64, name=None))"
            ]
          },
          "metadata": {},
          "execution_count": 13
        }
      ],
      "source": [
        "# applies the embedding extraction model to a wav data\n",
        "def extract_embedding(wav_data, label, fold):\n",
        "  ''' run YAMNet to extract embedding from the wav data '''\n",
        "  scores, embeddings, spectrogram = yamnet_model(wav_data)\n",
        "  num_embeddings = tf.shape(embeddings)[0]\n",
        "  return (embeddings,\n",
        "            tf.repeat(label, num_embeddings),\n",
        "            tf.repeat(fold, num_embeddings))\n",
        "\n",
        "# extract embedding\n",
        "main_ds = main_ds.map(extract_embedding).unbatch()\n",
        "main_ds.element_spec"
      ]
    },
    {
      "cell_type": "markdown",
      "metadata": {
        "id": "ZdfPIeD0Qedk"
      },
      "source": [
        "### Split the data\n",
        "\n",
        "You will use the `fold` column to split the dataset into train, validation and test sets.\n",
        "\n",
        "ESC-50 is arranged into five uniformly-sized cross-validation `fold`s, such that clips from the same original source are always in the same `fold` - find out more in the [ESC: Dataset for Environmental Sound Classification](https://www.karolpiczak.com/papers/Piczak2015-ESC-Dataset.pdf) paper.\n",
        "\n",
        "The last step is to remove the `fold` column from the dataset since you're not going to use it during training.\n"
      ]
    },
    {
      "cell_type": "code",
      "execution_count": null,
      "metadata": {
        "id": "1ZYvlFiVsffC"
      },
      "outputs": [],
      "source": [
        "cached_ds = main_ds.cache()\n",
        "train_ds = cached_ds.filter(lambda embedding, label, fold: fold < 4)\n",
        "val_ds = cached_ds.filter(lambda embedding, label, fold: fold == 4)\n",
        "test_ds = cached_ds.filter(lambda embedding, label, fold: fold == 5)\n",
        "\n",
        "# remove the folds column now that it's not needed anymore\n",
        "remove_fold_column = lambda embedding, label, fold: (embedding, label)\n",
        "\n",
        "train_ds = train_ds.map(remove_fold_column)\n",
        "val_ds = val_ds.map(remove_fold_column)\n",
        "test_ds = test_ds.map(remove_fold_column)\n",
        "\n",
        "train_ds = train_ds.cache().shuffle(1000).batch(8).prefetch(tf.data.AUTOTUNE)\n",
        "val_ds = val_ds.cache().batch(8).prefetch(tf.data.AUTOTUNE)\n",
        "test_ds = test_ds.cache().batch(8).prefetch(tf.data.AUTOTUNE)\n",
        "\n",
        "\n",
        "\n"
      ]
    },
    {
      "cell_type": "markdown",
      "metadata": {
        "id": "v5PaMwvtcAIe"
      },
      "source": [
        "## Create your model\n",
        "\n",
        "You did most of the work!\n",
        "Next, define a very simple [Sequential](https://www.tensorflow.org/guide/keras/sequential_model) model with one hidden layer and two outputs to recognize cats and dogs from sounds.\n"
      ]
    },
    {
      "cell_type": "code",
      "execution_count": null,
      "metadata": {
        "id": "JYCE0Fr1GpN3",
        "colab": {
          "base_uri": "https://localhost:8080/"
        },
        "outputId": "5dded0be-2f19-49db-c736-9b24df8a6718"
      },
      "outputs": [
        {
          "output_type": "stream",
          "name": "stdout",
          "text": [
            "Model: \"my_model\"\n",
            "_________________________________________________________________\n",
            " Layer (type)                Output Shape              Param #   \n",
            "=================================================================\n",
            " dense (Dense)               (None, 512)               524800    \n",
            "                                                                 \n",
            " dense_1 (Dense)             (None, 2)                 1026      \n",
            "                                                                 \n",
            "=================================================================\n",
            "Total params: 525,826\n",
            "Trainable params: 525,826\n",
            "Non-trainable params: 0\n",
            "_________________________________________________________________\n"
          ]
        }
      ],
      "source": [
        "my_model = tf.keras.Sequential([\n",
        "    tf.keras.layers.Input(shape=(1024,), dtype=tf.float32,\n",
        "                          name='input_embedding'),\n",
        "    tf.keras.layers.Dense(512, activation='relu'),\n",
        "    tf.keras.layers.Dense(len(my_classes)),\n",
        "], name='my_model')\n",
        "\n",
        "my_model.summary()"
      ]
    },
    {
      "cell_type": "code",
      "execution_count": null,
      "metadata": {
        "id": "l1qgH35HY0SE"
      },
      "outputs": [],
      "source": [
        "my_model.compile(loss=tf.keras.losses.SparseCategoricalCrossentropy(from_logits=True),\n",
        "                 optimizer=\"adam\",\n",
        "                 metrics=['accuracy'])\n",
        "\n",
        "callback = tf.keras.callbacks.EarlyStopping(monitor='loss',\n",
        "                                            patience=3,\n",
        "                                            restore_best_weights=True)"
      ]
    },
    {
      "cell_type": "code",
      "execution_count": null,
      "metadata": {
        "colab": {
          "base_uri": "https://localhost:8080/"
        },
        "id": "T3sj84eOZ3pk",
        "outputId": "838a92fc-8d21-4e55-dfb3-daf0f1eccc5f"
      },
      "outputs": [
        {
          "output_type": "stream",
          "name": "stdout",
          "text": [
            "Epoch 1/20\n",
            "119/119 [==============================] - 53s 9ms/step - loss: 1.2604 - accuracy: 0.7418 - val_loss: 0.4374 - val_accuracy: 0.7788\n",
            "Epoch 2/20\n",
            "119/119 [==============================] - 1s 5ms/step - loss: 0.3772 - accuracy: 0.8497 - val_loss: 0.7698 - val_accuracy: 0.7724\n",
            "Epoch 3/20\n",
            "119/119 [==============================] - 1s 5ms/step - loss: 0.3840 - accuracy: 0.8614 - val_loss: 0.3919 - val_accuracy: 0.8109\n",
            "Epoch 4/20\n",
            "119/119 [==============================] - 1s 5ms/step - loss: 0.3697 - accuracy: 0.8519 - val_loss: 0.3641 - val_accuracy: 0.8590\n",
            "Epoch 5/20\n",
            "119/119 [==============================] - 1s 5ms/step - loss: 0.2728 - accuracy: 0.8974 - val_loss: 0.3354 - val_accuracy: 0.8301\n",
            "Epoch 6/20\n",
            "119/119 [==============================] - 1s 5ms/step - loss: 0.2020 - accuracy: 0.9217 - val_loss: 0.3194 - val_accuracy: 0.8718\n",
            "Epoch 7/20\n",
            "119/119 [==============================] - 1s 5ms/step - loss: 0.2328 - accuracy: 0.9132 - val_loss: 0.5889 - val_accuracy: 0.7885\n",
            "Epoch 8/20\n",
            "119/119 [==============================] - 1s 5ms/step - loss: 0.1888 - accuracy: 0.9206 - val_loss: 0.3143 - val_accuracy: 0.8878\n",
            "Epoch 9/20\n",
            "119/119 [==============================] - 1s 5ms/step - loss: 0.1558 - accuracy: 0.9365 - val_loss: 0.3104 - val_accuracy: 0.8910\n",
            "Epoch 10/20\n",
            "119/119 [==============================] - 1s 6ms/step - loss: 0.1465 - accuracy: 0.9333 - val_loss: 0.3670 - val_accuracy: 0.8558\n",
            "Epoch 11/20\n",
            "119/119 [==============================] - 1s 7ms/step - loss: 0.1408 - accuracy: 0.9407 - val_loss: 0.4611 - val_accuracy: 0.8109\n",
            "Epoch 12/20\n",
            "119/119 [==============================] - 1s 7ms/step - loss: 0.1820 - accuracy: 0.9492 - val_loss: 0.3168 - val_accuracy: 0.8846\n",
            "Epoch 13/20\n",
            "119/119 [==============================] - 1s 5ms/step - loss: 0.1405 - accuracy: 0.9429 - val_loss: 0.3604 - val_accuracy: 0.8846\n",
            "Epoch 14/20\n",
            "119/119 [==============================] - 1s 5ms/step - loss: 0.1141 - accuracy: 0.9587 - val_loss: 0.3453 - val_accuracy: 0.8814\n",
            "Epoch 15/20\n",
            "119/119 [==============================] - 1s 5ms/step - loss: 0.0878 - accuracy: 0.9640 - val_loss: 0.3382 - val_accuracy: 0.8814\n",
            "Epoch 16/20\n",
            "119/119 [==============================] - 1s 5ms/step - loss: 0.1316 - accuracy: 0.9492 - val_loss: 0.3824 - val_accuracy: 0.8686\n",
            "Epoch 17/20\n",
            "119/119 [==============================] - 1s 5ms/step - loss: 0.1361 - accuracy: 0.9492 - val_loss: 0.4205 - val_accuracy: 0.8526\n",
            "Epoch 18/20\n",
            "119/119 [==============================] - 1s 5ms/step - loss: 0.1154 - accuracy: 0.9598 - val_loss: 0.3689 - val_accuracy: 0.8974\n"
          ]
        }
      ],
      "source": [
        "history = my_model.fit(train_ds,\n",
        "                       epochs=20,\n",
        "                       validation_data=val_ds,\n",
        "                       callbacks=callback)"
      ]
    },
    {
      "cell_type": "markdown",
      "source": [],
      "metadata": {
        "id": "7PtwRp6fcz7N"
      }
    },
    {
      "cell_type": "markdown",
      "metadata": {
        "id": "OAbraYKYpdoE"
      },
      "source": [
        "Let's run the `evaluate` method on the test data just to be sure there's no overfitting."
      ]
    },
    {
      "cell_type": "code",
      "execution_count": null,
      "metadata": {
        "colab": {
          "base_uri": "https://localhost:8080/"
        },
        "id": "H4Nh5nec3Sky",
        "outputId": "1f46db99-c8be-489e-c2dc-7b28faede4fa"
      },
      "outputs": [
        {
          "output_type": "stream",
          "name": "stdout",
          "text": [
            "313/313 [==============================] - 0s 1ms/step - loss: 0.4154 - accuracy: 0.8626\n",
            "Loss:  0.41536691784858704\n",
            "Accuracy:  0.8626198172569275\n"
          ]
        }
      ],
      "source": [
        "loss, accuracy = my_model.evaluate(test_ds)\n",
        "\n",
        "print(\"Loss: \", loss)\n",
        "print(\"Accuracy: \", accuracy)"
      ]
    },
    {
      "cell_type": "markdown",
      "metadata": {
        "id": "cid-qIrIpqHS"
      },
      "source": [
        "You did it!"
      ]
    },
    {
      "cell_type": "markdown",
      "metadata": {
        "id": "nCKZonrJcXab"
      },
      "source": [
        "## Test your model\n",
        "\n",
        "Next, try your model on the embedding from the previous test using YAMNet only.\n"
      ]
    },
    {
      "cell_type": "code",
      "execution_count": null,
      "metadata": {
        "colab": {
          "base_uri": "https://localhost:8080/"
        },
        "id": "79AFpA3_ctCF",
        "outputId": "c227ea47-4bc6-4641-9db5-d7993d6c26f5"
      },
      "outputs": [
        {
          "output_type": "stream",
          "name": "stdout",
          "text": [
            "The main sound is: obd\n"
          ]
        }
      ],
      "source": [
        "scores, embeddings, spectrogram = yamnet_model(testing_wav_data)\n",
        "result = my_model(embeddings).numpy()\n",
        "\n",
        "inferred_class = my_classes[result.mean(axis=0).argmax()]\n",
        "print(f'The main sound is: {inferred_class}')"
      ]
    },
    {
      "cell_type": "markdown",
      "metadata": {
        "id": "k2yleeev645r"
      },
      "source": [
        "## Save a model that can directly take a WAV file as input\n",
        "\n",
        "Your model works when you give it the embeddings as input.\n",
        "\n",
        "In a real-world scenario, you'll want to use audio data as a direct input.\n",
        "\n",
        "To do that, you will combine YAMNet with your model into a single model that you can export for other applications.\n",
        "\n",
        "To make it easier to use the model's result, the final layer will be a `reduce_mean` operation. When using this model for serving (which you will learn about later in the tutorial), you will need the name of the final layer. If you don't define one, TensorFlow will auto-define an incremental one that makes it hard to test, as it will keep changing every time you train the model. When using a raw TensorFlow operation, you can't assign a name to it. To address this issue, you'll create a custom layer that applies `reduce_mean` and call it `'classifier'`.\n"
      ]
    },
    {
      "cell_type": "code",
      "source": [
        "class ReduceMeanLayer(tf.keras.layers.Layer):\n",
        "  def __init__(self, axis=0, **kwargs):\n",
        "    super(ReduceMeanLayer, self).__init__(**kwargs)\n",
        "    self.axis = axis\n",
        "\n",
        "  def call(self, input):\n",
        "    return tf.math.reduce_mean(input, axis=self.axis)\n"
      ],
      "metadata": {
        "id": "kn922A1g_wAA"
      },
      "execution_count": null,
      "outputs": []
    },
    {
      "cell_type": "code",
      "source": [
        "saved_model_path = './my_autoguard_model'\n",
        "\n",
        "input_segment = tf.keras.layers.Input(shape=(), dtype=tf.float32, name='audio')\n",
        "embedding_extraction_layer = hub.KerasLayer(yamnet_model_handle,\n",
        "                                            trainable=False, name='yamnet')\n",
        "_, embeddings_output, _ = embedding_extraction_layer(input_segment)\n",
        "serving_outputs = my_model(embeddings_output)\n",
        "serving_outputs = ReduceMeanLayer(axis=0, name='classifier')(serving_outputs)\n",
        "serving_model = tf.keras.Model(input_segment, serving_outputs)\n",
        "serving_model.save(saved_model_path, include_optimizer=False)\n",
        "\n",
        "\n",
        "\n",
        "\n",
        "\n",
        "\n"
      ],
      "metadata": {
        "colab": {
          "base_uri": "https://localhost:8080/"
        },
        "id": "KWCmVqsk_oPp",
        "outputId": "80d06e84-b2d1-4db1-97e8-2e9c9aeb2f6d"
      },
      "execution_count": null,
      "outputs": [
        {
          "output_type": "stream",
          "name": "stderr",
          "text": [
            "WARNING:tensorflow:Compiled the loaded model, but the compiled metrics have yet to be built. `model.compile_metrics` will be empty until you train or evaluate the model.\n",
            "WARNING:absl:Found untraced functions such as _update_step_xla while saving (showing 1 of 1). These functions will not be directly callable after loading.\n"
          ]
        }
      ]
    },
    {
      "cell_type": "code",
      "execution_count": null,
      "metadata": {
        "id": "y-0bY5FMme1C",
        "colab": {
          "base_uri": "https://localhost:8080/",
          "height": 369
        },
        "outputId": "acb36187-82ec-46c4-91a1-de86ce9e42cd"
      },
      "outputs": [
        {
          "output_type": "execute_result",
          "data": {
            "image/png": "[encoded data removed]",
            "text/plain": [
              "<IPython.core.display.Image object>"
            ]
          },
          "metadata": {},
          "execution_count": 22
        }
      ],
      "source": [
        "tf.keras.utils.plot_model(serving_model)"
      ]
    }
  ],
  "metadata": {
    "colab": {
      "provenance": []
    },
    "kernelspec": {
      "display_name": "Python 3",
      "name": "python3"
    }
  },
  "nbformat": 4,
  "nbformat_minor": 0
}